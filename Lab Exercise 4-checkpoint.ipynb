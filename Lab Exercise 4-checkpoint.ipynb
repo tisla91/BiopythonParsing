{
 "cells": [
  {
   "cell_type": "code",
   "execution_count": 37,
   "metadata": {},
   "outputs": [
    {
     "name": "stdout",
     "output_type": "stream",
     "text": [
      "Hb ID:NM_000518.5\n",
      "Hb Description: NM_000518.5 Homo sapiens hemoglobin subunit beta (HBB), mRNA\n",
      "Hb Sequence: ACATTTGCTTCTGACACAACTGTGTTCACTAGCAACCTCAAACAGACACCATGGTGCATCTGACTCCTGAGGAGAAGTCTGCCGTTACTGCCCTGTGGGGCAAGGTGAACGTGGATGAAGTTGGTGGTGAGGCCCTGGGCAGGCTGCTGGTGGTCTACCCTTGGACCCAGAGGTTCTTTGAGTCCTTTGGGGATCTGTCCACTCCTGATGCTGTTATGGGCAACCCTAAGGTGAAGGCTCATGGCAAGAAAGTGCTCGGTGCCTTTAGTGATGGCCTGGCTCACCTGGACAACCTCAAGGGCACCTTTGCCACACTGAGTGAGCTGCACTGTGACAAGCTGCACGTGGATCCTGAGAACTTCAGGCTCCTGGGCAACGTGCTGGTCTGTGTGCTGGCCCATCACTTTGGCAAAGAATTCACCCCACCAGTGCAGGCTGCCTATCAGAAAGTGGTGGCTGGTGTGGCTAATGCCCTGGCCCACAAGTATCACTAAGCTCGCTTTCTTGCTGTCCAATTTCTATTAAAGGTTCCTTTGTTCCCTAAGTCCAACTACTAAACTGGGGGATATTATGAAGGGCCTTGAGCATCTGGATTCTGCCTAATAAAAAACATTTATTTTCATTGCAA\n",
      "********************\n",
      "<class 'Bio.Seq.Seq'>\n",
      "********************\n",
      "MVHLTPEEKSAVTALWGKVNVDEVGGEALGRLLVVYPWTQRFFESFGDLSTPDAVMGNPKVKAHGKKVLGAFSDGLAHLDNLKGTFATLSELHCDKLHVDPENFRLLGNVLVCVLAHHFGKEFTPPVQAAYQKVVAGVANALAHKYH\n"
     ]
    }
   ],
   "source": [
    "from Bio import SeqIO\n",
    "import os\n",
    "# Parsing sequence.fasta file\n",
    "DIR = r'C:\\Users\\User\\Documents\\Quantitative Biological Research\\Lesson 4'\n",
    "f = open(os.path.join(DIR, 'sequence.fasta'), 'r')\n",
    "hb_seq = SeqIO.parse(f, 'fasta') # Last two lines can also be written as: hb_seq = SeqIO.parse(os.path.join(DIR, 'sequence.fasta'), 'fasta')\n",
    "for record in hb_seq:      # Iterates over each record in the fasta file (Assume there are more than one fasta records)\n",
    "    print('Hb ID:' + record.id)\n",
    "    print('Hb Description: ' + record.description)\n",
    "    print('Hb Sequence: ' + record.seq)\n",
    "    last_seq = record.seq\n",
    "    \n",
    "f.close()\n",
    "print('*' * 20)\n",
    "print(type(last_seq))  #Type is Seq\n",
    "print('*' * 20)\n",
    "# print(last_seq.translate())\n",
    "# print('*' * 20)\n",
    "# print(last_seq.transcribe())\n",
    "# print('*' * 20)\n",
    "hb_aa = last_seq[50:494].translate()[:-1]\n",
    "print(hb_aa)\n"
   ]
  },
  {
   "cell_type": "code",
   "execution_count": 32,
   "metadata": {},
   "outputs": [
    {
     "name": "stdout",
     "output_type": "stream",
     "text": [
      "[SeqRecord(seq=Seq('TFASDTTVFTSNLKQTPWCI*LLRRSLPLLPCGAR*TWMKLVVRPWAGCWWSTL...FIA'), id='Human Hb', name='<unknown name>', description='Beta protein', dbxrefs=[])]\n",
      "********************\n"
     ]
    }
   ],
   "source": [
    "# Writing the protein sequence into a new file 'Human Hb Protein' created below.\n",
    "from Bio.SeqRecord import SeqRecord # First use the protein sequence to create a new fasta record(must contain sequence, id, description) using SeqRecord module.\n",
    "hb_prot = [SeqRecord(hb_aa, id ='Human Hb', description = 'Beta protein')]\n",
    "print(hb_prot)\n",
    "print('*' * 20)\n",
    "f = open(os.path.join(DIR, 'Human Hb Protein'), 'w')\n",
    "SeqIO.write(hb_prot, f, 'fasta') #File created in directory\n",
    "f.close() "
   ]
  },
  {
   "cell_type": "code",
   "execution_count": 70,
   "metadata": {},
   "outputs": [
    {
     "name": "stdout",
     "output_type": "stream",
     "text": [
      "109224 NM_001267550.2\n",
      "NM_001267550.2\n",
      "44.07364681754925\n",
      "NM_001267550.2 trancsript has the longest lenght of 109224 with a GC content of 44.073647\n",
      "********************\n",
      "109224\n"
     ]
    }
   ],
   "source": [
    "# Parsing a compressed .fasta file(in .fna.gz format) downloaded from NCBI ftp site(more like an online directory). \n",
    "#ftp.ncbi.nlm.nih.gov\n",
    "import gzip\n",
    "f = gzip.open(os.path.join(DIR, 'GCF_000001405.39_GRCh38.p13_rna.fna.gz'), 'rt')\n",
    "homo_S = SeqIO.parse(f, 'fasta')\n",
    "\n",
    "len_ls = []\n",
    "i = 0\n",
    "name = None\n",
    "for record in homo_S:    #To get the record with the longest sequence, and its id\n",
    "    len_ls.append(len(record.seq))   #Not active! To add lenghts of all sequence to a list len_ls\n",
    "    if len(record.seq) > i:\n",
    "        i = len(record.seq)\n",
    "        name = record\n",
    "print(i, name.id)\n",
    "print(name.id)\n",
    "print(GC(name.seq))  # GC contant of sequence with longest lenght in file.\n",
    "print('%s trancsript has the longest lenght of %d with a GC content of %f' % (name.id, i, GC(name.seq)))\n",
    "print('*' * 20)\n",
    "print(max(len_ls))  #Also, highest lenght can be gotten with this.\n",
    "\n",
    "f.close()"
   ]
  },
  {
   "cell_type": "code",
   "execution_count": 87,
   "metadata": {
    "scrolled": true
   },
   "outputs": [
    {
     "name": "stdout",
     "output_type": "stream",
     "text": [
      "NM_001267550.2\n",
      "Homo sapiens titin (TTN), transcript variant IC, mRNA\n",
      "GAGCAGTCGTGCATTCCCAG\n",
      "dict_keys(['molecule_type', 'topology', 'data_file_division', 'date', 'accessions', 'sequence_version', 'keywords', 'source', 'organism', 'taxonomy', 'references', 'comment', 'structured_comment'])\n",
      "[SeqFeature(FeatureLocation(ExactPosition(0), ExactPosition(109224), strand=1), type='source'), SeqFeature(FeatureLocation(ExactPosition(0), ExactPosition(109224), strand=1), type='gene'), SeqFeature(FeatureLocation(ExactPosition(0), ExactPosition(212), strand=1), type='exon')]\n",
      "********************\n",
      "363\n",
      "The exon with the highest GC content has a GC content of 59.523810\n"
     ]
    }
   ],
   "source": [
    "# Parsing GenBank\n",
    "g = open(os.path.join(DIR, 'sequence.gb'), 'r')\n",
    "NM = SeqIO.parse(g, 'genbank')\n",
    "\n",
    "for record in NM:       # GenBank considered as just one record\n",
    "    print(record.id)\n",
    "    print(record.description)\n",
    "    print(record.seq[:20])\n",
    "    print(record.annotations.keys())   # GenBank .annotations is a dict type.\n",
    "    print(record.features[:3])   # GenBank .features is a list type.\n",
    "\n",
    "print('*' * 20)\n",
    "exon_loc = []\n",
    "exon_count = 0\n",
    "for feature in record.features:\n",
    "    if feature.type == 'exon':\n",
    "        exon_count = exon_count + 1\n",
    "        exon_loc.append((int(feature.location.start), int(feature.location.end))) # To get indexes of exons in sequence.\n",
    "print(exon_count)\n",
    "#print(exon_loc)    ## exon_loc can also be done with a one liner as below:\n",
    "exon_loc_ = [(int(feature.location.start), int(feature.location.end)) for feature in record.features if feature.type == 'exon']\n",
    "exon_seq = [record.seq[start : end] for start, end in exon_loc_]    #Using one liner to get a list of each exon sequence with indexes from exon_loc_.\n",
    "exon_GC_ls = [GC(i) for i in exon_seq]  # A list of GC content of each sequence from exon_seq.\n",
    "max_GC = max(exon_GC_ls)  # Highest GC content in the list exon_GC_ls.\n",
    "print('The exon with the highest GC content has a GC content of %f' % max_GC)"
   ]
  },
  {
   "cell_type": "code",
   "execution_count": 117,
   "metadata": {},
   "outputs": [
    {
     "name": "stdout",
     "output_type": "stream",
     "text": [
      "[(225, 108201)]\n",
      "Counter({'E': 3436, 'V': 3433, 'K': 3186, 'P': 2871, 'T': 2612, 'S': 2525, 'A': 2211, 'L': 2170, 'I': 2126, 'G': 2087, 'D': 1738, 'R': 1664, 'N': 1120, 'Y': 1009, 'Q': 985, 'F': 927, 'C': 522, 'H': 492, 'W': 469, 'M': 408})\n",
      "{'M': 0.011336167375177128, 'T': 0.07257369898030062, 'Q': 0.027367953099385958, 'A': 0.06143202467283487, 'P': 0.0797699424856214, 'F': 0.025756439109777443, 'L': 0.06029285099052541, 'S': 0.07015642799588787, 'V': 0.09538495735044872, 'E': 0.09546831152232503, 'G': 0.05798671890194771, 'H': 0.013670084187713595, 'I': 0.05907032313633964, 'W': 0.013031035536661944, 'R': 0.04623378066738907, 'D': 0.04828985024033786, 'K': 0.08852213053263316, 'N': 0.031118890833819565, 'Y': 0.028034786474396375, 'C': 0.014503625906476619}\n"
     ]
    }
   ],
   "source": [
    "# To calculate frequenncy of amino acids in the Genbank file sequence\n",
    "\n",
    "# Use a one liner to get feature with aa sequence as below:\n",
    "cds_feature, = [feature for feature in record.features if feature.type == 'CDS'] \n",
    "aa_seq, = cds_feature.qualifiers['translation']  ##The .qualifier object contains 'translation' sequence which is a list.\n",
    "##Note the comma beside variables in the two code lines above. Used to assign only outcome of a list to the variable.''''''\n",
    "#print(aa_seq)\n",
    "from collections import Counter\n",
    "aa_count = Counter(aa_seq) ## generate and store count of each amino acid into a dict aa_count.\n",
    "print(aa_count)\n",
    "aa_freq = {aa: count/ len(aa_seq) for aa, count in aa_count.items()} ## One liner to calculate and store frequency of each amino acid into a dict.\n",
    "print(aa_freq)"
   ]
  },
  {
   "cell_type": "markdown",
   "metadata": {},
   "source": [
    "### Rough Work"
   ]
  },
  {
   "cell_type": "code",
   "execution_count": 61,
   "metadata": {},
   "outputs": [
    {
     "name": "stdout",
     "output_type": "stream",
     "text": [
      "<class 'Bio.Seq.Seq'>\n",
      "AGGGUAAUUCCCAG\n",
      "G*F\n",
      "[SeqRecord(seq=Seq('AGGGTAATTCCCAG'), id='annndjjd', name='<unknown name>', description='ksdgfius', dbxrefs=[])]\n",
      "********************\n"
     ]
    }
   ],
   "source": [
    "from Bio.Seq import Seq # used to create new sequence\n",
    "#from Bio.Alphabet import Alphabet ----Alphabet method removed from Biopython\n",
    "nw = Seq('AGGGTAATTCCCAG')\n",
    "print(type(nw))\n",
    "print(nw.transcribe())\n",
    "print(nw[1:11].translate())\n",
    "nw_rec = [SeqRecord(nw, id = 'annndjjd', description = 'ksdgfius')]\n",
    "print(nw_rec)\n",
    "print('*' * 20)"
   ]
  },
  {
   "cell_type": "code",
   "execution_count": null,
   "metadata": {},
   "outputs": [],
   "source": []
  }
 ],
 "metadata": {
  "kernelspec": {
   "display_name": "Python 3",
   "language": "python",
   "name": "python3"
  },
  "language_info": {
   "codemirror_mode": {
    "name": "ipython",
    "version": 3
   },
   "file_extension": ".py",
   "mimetype": "text/x-python",
   "name": "python",
   "nbconvert_exporter": "python",
   "pygments_lexer": "ipython3",
   "version": "3.8.5"
  }
 },
 "nbformat": 4,
 "nbformat_minor": 4
}
